{
  "nbformat": 4,
  "nbformat_minor": 0,
  "metadata": {
    "colab": {
      "name": "PCA_FC_NMA_project",
      "provenance": [],
      "collapsed_sections": [
        "XrLTeNLgaxGw"
      ],
      "include_colab_link": true
    },
    "kernel": {
      "display_name": "Python 3",
      "language": "python",
      "name": "python3"
    },
    "kernelspec": {
      "display_name": "Python 3",
      "name": "python3"
    },
    "language_info": {
      "name": "python"
    }
  },
  "cells": [
    {
      "cell_type": "markdown",
      "metadata": {
        "id": "view-in-github",
        "colab_type": "text"
      },
      "source": [
        "<a href=\"https://colab.research.google.com/github/ioqfwfq/NMA_DL2021_Project/blob/main/PCA_FC_NMA_project.ipynb\" target=\"_parent\"><img src=\"https://colab.research.google.com/assets/colab-badge.svg\" alt=\"Open In Colab\"/></a>"
      ]
    },
    {
      "cell_type": "markdown",
      "metadata": {
        "execution": {},
        "id": "8bB4m3HPLQ6g"
      },
      "source": [
        "---\n",
        "# Setup"
      ]
    },
    {
      "cell_type": "code",
      "metadata": {
        "execution": {},
        "id": "6Ema3PIxLQ6h"
      },
      "source": [
        "# Imports\n",
        "import torch\n",
        "import numpy as np\n",
        "import sklearn.decomposition as decomposition\n",
        "import torch.nn as nn\n",
        "import torch.nn.functional as F\n",
        "import pandas as pd\n",
        "import scipy.stats as stats\n",
        "import torch.utils\n",
        "import torch.distributions\n",
        "from matplotlib import pyplot as plt\n",
        "from torch import optim  # For optimizers like SGD, Adam, etc.\n",
        "from torch.utils.data import TensorDataset, DataLoader, SubsetRandomSampler\n",
        "from tqdm import tqdm  # For a nice progress bar!"
      ],
      "execution_count": 1,
      "outputs": []
    },
    {
      "cell_type": "code",
      "metadata": {
        "execution": {},
        "id": "POETLrUVLQ6i"
      },
      "source": [
        "device = torch.device('cuda' if torch.cuda.is_available() else 'cpu')"
      ],
      "execution_count": 2,
      "outputs": []
    },
    {
      "cell_type": "markdown",
      "metadata": {
        "id": "Wom4yo3fLzVU"
      },
      "source": [
        "---\n",
        "# Load Data from Google Drive\n"
      ]
    },
    {
      "cell_type": "code",
      "metadata": {
        "colab": {
          "base_uri": "https://localhost:8080/"
        },
        "id": "s4kKa6hAMcbi",
        "outputId": "fb6fbb1d-a804-48b0-fcac-d2565e92ec29"
      },
      "source": [
        "# Load the Drive helper and mount\n",
        "from google.colab import drive\n",
        "\n",
        "# This will prompt for authorization.\n",
        "drive.mount('/content/drive')\n",
        "\n",
        "%cd /content/drive/My\\ Drive/Colab\\ Notebooks/data/\n",
        "!pwd\n",
        "!dir"
      ],
      "execution_count": 3,
      "outputs": [
        {
          "output_type": "stream",
          "text": [
            "Mounted at /content/drive\n",
            "/content/drive/.shortcut-targets-by-id/17xuhq9TF8GNhT9Xklt08_1TwyLvMiN_6/data\n",
            "/content/drive/.shortcut-targets-by-id/17xuhq9TF8GNhT9Xklt08_1TwyLvMiN_6/data\n",
            "data\t\t\t mouse1_day1_suqare2.mat  mouse1_day7_suqare1.mat\n",
            "mouse1_day1_suqare1.csv  mouse1_day4_suqare1.csv  NeuronROIs.mat\n",
            "mouse1_day1_suqare1.mat  mouse1_day4_suqare1.mat  ReadMe.txt\n",
            "mouse1_day1_suqare2.csv  mouse1_day7_suqare1.csv\n"
          ],
          "name": "stdout"
        }
      ]
    },
    {
      "cell_type": "code",
      "metadata": {
        "id": "zEzcz5i6R9HM"
      },
      "source": [
        "fn = 'mouse1_day1_suqare1.csv'\n",
        "raw = pd.read_csv(fn, index_col=0)\n",
        "ndata = raw.iloc[:,:-3].values\n",
        "bdata = raw.iloc[:,-3:].values\n"
      ],
      "execution_count": 71,
      "outputs": []
    },
    {
      "cell_type": "code",
      "metadata": {
        "colab": {
          "base_uri": "https://localhost:8080/"
        },
        "id": "D8b5zABaTZxf",
        "outputId": "04ca7f08-943f-4166-8988-45127ffb0ebf"
      },
      "source": [
        "ndata.shape"
      ],
      "execution_count": 5,
      "outputs": [
        {
          "output_type": "execute_result",
          "data": {
            "text/plain": [
              "(7752, 505)"
            ]
          },
          "metadata": {
            "tags": []
          },
          "execution_count": 5
        }
      ]
    },
    {
      "cell_type": "markdown",
      "metadata": {
        "id": "mtrnCK5HQ8Ph"
      },
      "source": [
        "# Prep data: PCA"
      ]
    },
    {
      "cell_type": "code",
      "metadata": {
        "id": "1lA2d-gpMmyB"
      },
      "source": [
        "pca = decomposition.PCA(n_components=2)\n",
        "pca.fit(ndata)\n",
        "ndata = pca.transform(ndata)"
      ],
      "execution_count": 72,
      "outputs": []
    },
    {
      "cell_type": "markdown",
      "metadata": {
        "id": "XrLTeNLgaxGw"
      },
      "source": [
        "# Build Dataset"
      ]
    },
    {
      "cell_type": "code",
      "metadata": {
        "id": "H_RehuCbTbwK"
      },
      "source": [
        "#Transform and normalize the coordinates\n",
        "x_coo = bdata[:,0]\n",
        "y_coo = bdata[:,1]\n",
        "# x_len = x_coo.max()-x_coo.min()\n",
        "# y_len = y_coo.max()-y_coo.min()\n",
        "# x_cen = (x_coo.max()+x_coo.min())*0.5\n",
        "# y_cen = (y_coo.max()+y_coo.min())*0.5\n",
        "\n",
        "# x_coo_nor = (x_coo-x_cen)/(x_len*0.5) # range [-1, 1]\n",
        "# y_coo_nor = (y_coo-y_cen)/(y_len*0.5) \n",
        "\n",
        "# Find inside points\n",
        "inside = np.zeros_like(bdata[:,1],dtype=bool)\n",
        "for i in range(len(x_coo)):\n",
        "  inside[i] = abs(x_coo[i]-32.5)<12.5 and abs(y_coo[i]-52.5)<12.5\n",
        "ndata = ndata[inside]\n",
        "bdata = bdata[inside]\n",
        "x_coo = bdata[:,0]\n",
        "y_coo = bdata[:,1]"
      ],
      "execution_count": 73,
      "outputs": []
    },
    {
      "cell_type": "code",
      "metadata": {
        "id": "56Q4f5U4iqvw"
      },
      "source": [
        "# Make labels\n",
        "labels = np.zeros_like(bdata[:,1])\n",
        "labels_x = np.ceil(x_coo/5)-5\n",
        "labels_x = labels_x.astype(int)\n",
        "labels_y = np.ceil(y_coo/5)-9\n",
        "labels_y = labels_y.astype(int)\n",
        "num_classes = len(np.unique(labels_x)) * len(np.unique(labels_y))\n",
        "label_list = np.linspace(0,num_classes-1,num_classes).reshape([len(np.unique(labels_x)),len(np.unique(labels_y))])\n",
        "\n",
        "for i in range(len(labels)):\n",
        "  labels[i] = label_list[labels_x[i],labels_y[i]]"
      ],
      "execution_count": 74,
      "outputs": []
    },
    {
      "cell_type": "code",
      "metadata": {
        "id": "6LyNxmKpvHSj"
      },
      "source": [
        "# Make Dataloader\n",
        "tensor_input = torch.Tensor(ndata)\n",
        "tensor_label = torch.Tensor(labels)\n",
        "\n",
        "my_dataset = TensorDataset(tensor_input,tensor_label) # create dateset\n",
        "\n",
        "dataset_size = len(my_dataset)\n",
        "indices = list(range(dataset_size))\n",
        "split = int(np.floor(validation_split * dataset_size))\n",
        "np.random.shuffle(indices)\n",
        "train_indices, val_indices = indices[split:], indices[:split]\n",
        "\n",
        "train_sampler = SubsetRandomSampler(train_indices)\n",
        "valid_sampler = SubsetRandomSampler(val_indices)\n",
        "train_loader = DataLoader(my_dataset,\n",
        "                          batch_size=batch_size,\n",
        "                          sampler=train_sampler)\n",
        "valid_loader = DataLoader(my_dataset,\n",
        "                          batch_size=batch_size,\n",
        "                          sampler=valid_sampler)"
      ],
      "execution_count": 75,
      "outputs": []
    },
    {
      "cell_type": "code",
      "metadata": {
        "colab": {
          "base_uri": "https://localhost:8080/",
          "height": 283
        },
        "id": "8-uv_ZxQOhRM",
        "outputId": "d3e10baf-1ca9-424b-8e30-272dfc58316c"
      },
      "source": [
        "plt.scatter(x_coo[train_indices],y_coo[train_indices], s=2)"
      ],
      "execution_count": 21,
      "outputs": [
        {
          "output_type": "execute_result",
          "data": {
            "text/plain": [
              "<matplotlib.collections.PathCollection at 0x7f708f04f9d0>"
            ]
          },
          "metadata": {
            "tags": []
          },
          "execution_count": 21
        },
        {
          "output_type": "display_data",
          "data": {
            "image/png": "[encoded data removed]",
            "text/plain": [
              "<Figure size 432x288 with 1 Axes>"
            ]
          },
          "metadata": {
            "tags": [],
            "needs_background": "light"
          }
        }
      ]
    },
    {
      "cell_type": "code",
      "metadata": {
        "colab": {
          "base_uri": "https://localhost:8080/"
        },
        "id": "nwv8kd8jr5lH",
        "outputId": "84237bd3-507d-441b-da1a-850be269a0ba"
      },
      "source": [
        "# debug\n",
        "batch_test = next(iter(train_loader))\n",
        "na, label_test = batch_test\n",
        "\n",
        "print('types:', type(na), type(label_test))\n",
        "print('shapes:', na.shape, label_test)"
      ],
      "execution_count": 22,
      "outputs": [
        {
          "output_type": "stream",
          "text": [
            "types: <class 'torch.Tensor'> <class 'torch.Tensor'>\n",
            "shapes: torch.Size([64, 100]) tensor([15., 10.,  1., 14.,  5., 11., 15., 24.,  1.,  4.,  4.,  7., 22., 15.,\n",
            "         5., 10., 12.,  4., 15.,  2., 14., 19., 22., 19., 14., 15.,  9., 17.,\n",
            "         4.,  9., 15., 12.,  2., 23., 19.,  9., 23., 24., 14.,  2., 21.,  0.,\n",
            "        16., 24.,  0., 22., 14., 13.,  4., 12., 17.,  2., 14., 16., 19.,  7.,\n",
            "        22.,  8., 18., 19., 18., 17.,  8.,  8.])\n"
          ],
          "name": "stdout"
        }
      ]
    },
    {
      "cell_type": "markdown",
      "metadata": {
        "execution": {},
        "id": "TU3pZyN8LQ6r"
      },
      "source": [
        "---\n",
        "# NN logistic"
      ]
    },
    {
      "cell_type": "code",
      "metadata": {
        "id": "JFF8ukCAZox6"
      },
      "source": [
        "# Hyperparameters\n",
        "input_size = ndata.shape[1]\n",
        "hidden_size = 256\n",
        "num_layers = 2\n",
        "learning_rate = 0.005\n",
        "batch_size = 64\n",
        "num_epochs = 100\n",
        "validation_split = .2"
      ],
      "execution_count": 76,
      "outputs": []
    },
    {
      "cell_type": "code",
      "metadata": {
        "id": "NzjYV_6hbIoe"
      },
      "source": [
        "class NN(nn.Module):\n",
        "    def __init__(self, input_size, num_classes):\n",
        "        super(NN, self).__init__()\n",
        "        # self.fc1 = nn.Linear(input_size, num_classes)\n",
        "        self.fc1 = nn.Linear(input_size, hidden_size)\n",
        "        self.fc2 = nn.Linear(hidden_size, num_classes)\n",
        "\n",
        "    def forward(self, x):\n",
        "        # x = self.fc1(x)\n",
        "        x = F.relu(self.fc1(x))\n",
        "        x = self.fc2(x)\n",
        "        return x"
      ],
      "execution_count": 77,
      "outputs": []
    },
    {
      "cell_type": "code",
      "metadata": {
        "id": "iW_IRXZMt9tU"
      },
      "source": [
        "# Initialize network\n",
        "model = NN(input_size=input_size, num_classes=num_classes).to(device)\n",
        "\n",
        "# Loss and optimizer\n",
        "criterion = nn.CrossEntropyLoss()\n",
        "optimizer = optim.Adam(model.parameters(), lr=learning_rate)"
      ],
      "execution_count": 78,
      "outputs": []
    },
    {
      "cell_type": "code",
      "metadata": {
        "colab": {
          "base_uri": "https://localhost:8080/"
        },
        "id": "JSBxdsY_uDcE",
        "outputId": "ffd3c4f6-a2ab-481b-edaf-27acd680cbfa"
      },
      "source": [
        "# Train Network\n",
        "for epoch in range(num_epochs):\n",
        "    for batch_idx, (tensor_input, tensor_label) in enumerate(tqdm(train_loader)):\n",
        "        # Get data to cuda if possible\n",
        "        data = tensor_input.to(device=device)\n",
        "        targets = tensor_label.to(device=device)\n",
        "\n",
        "        # Get to correct shape\n",
        "        data = data.reshape(data.shape[0], -1)\n",
        "\n",
        "        # forward\n",
        "        scores = model(data)\n",
        "        loss = criterion(scores, targets.long())\n",
        "\n",
        "        # backward\n",
        "        optimizer.zero_grad()\n",
        "        loss.backward()\n",
        "\n",
        "        # gradient descent or adam step\n",
        "        optimizer.step()"
      ],
      "execution_count": 79,
      "outputs": [
        {
          "output_type": "stream",
          "text": [
            "100%|██████████| 83/83 [00:00<00:00, 683.10it/s]\n",
            "100%|██████████| 83/83 [00:00<00:00, 629.70it/s]\n",
            "100%|██████████| 83/83 [00:00<00:00, 659.12it/s]\n",
            "100%|██████████| 83/83 [00:00<00:00, 661.52it/s]\n",
            "100%|██████████| 83/83 [00:00<00:00, 687.93it/s]\n",
            "100%|██████████| 83/83 [00:00<00:00, 600.03it/s]\n",
            "100%|██████████| 83/83 [00:00<00:00, 597.21it/s]\n",
            "100%|██████████| 83/83 [00:00<00:00, 648.86it/s]\n",
            "100%|██████████| 83/83 [00:00<00:00, 674.78it/s]\n",
            "100%|██████████| 83/83 [00:00<00:00, 667.91it/s]\n",
            "100%|██████████| 83/83 [00:00<00:00, 676.66it/s]\n",
            "100%|██████████| 83/83 [00:00<00:00, 603.18it/s]\n",
            "100%|██████████| 83/83 [00:00<00:00, 650.24it/s]\n",
            "100%|██████████| 83/83 [00:00<00:00, 617.90it/s]\n",
            "100%|██████████| 83/83 [00:00<00:00, 644.21it/s]\n",
            "100%|██████████| 83/83 [00:00<00:00, 528.26it/s]\n",
            "100%|██████████| 83/83 [00:00<00:00, 562.73it/s]\n",
            "100%|██████████| 83/83 [00:00<00:00, 616.01it/s]\n",
            "100%|██████████| 83/83 [00:00<00:00, 636.99it/s]\n",
            "100%|██████████| 83/83 [00:00<00:00, 579.21it/s]\n",
            "100%|██████████| 83/83 [00:00<00:00, 649.82it/s]\n",
            "100%|██████████| 83/83 [00:00<00:00, 538.53it/s]\n",
            "100%|██████████| 83/83 [00:00<00:00, 634.08it/s]\n",
            "100%|██████████| 83/83 [00:00<00:00, 673.00it/s]\n",
            "100%|██████████| 83/83 [00:00<00:00, 668.87it/s]\n",
            "100%|██████████| 83/83 [00:00<00:00, 669.57it/s]\n",
            "100%|██████████| 83/83 [00:00<00:00, 375.83it/s]\n",
            "100%|██████████| 83/83 [00:00<00:00, 649.10it/s]\n",
            "100%|██████████| 83/83 [00:00<00:00, 640.46it/s]\n",
            "100%|██████████| 83/83 [00:00<00:00, 526.91it/s]\n",
            "100%|██████████| 83/83 [00:00<00:00, 483.02it/s]\n",
            "100%|██████████| 83/83 [00:00<00:00, 495.63it/s]\n",
            "100%|██████████| 83/83 [00:00<00:00, 544.35it/s]\n",
            "100%|██████████| 83/83 [00:00<00:00, 603.38it/s]\n",
            "100%|██████████| 83/83 [00:00<00:00, 665.79it/s]\n",
            "100%|██████████| 83/83 [00:00<00:00, 660.35it/s]\n",
            "100%|██████████| 83/83 [00:00<00:00, 617.75it/s]\n",
            "100%|██████████| 83/83 [00:00<00:00, 633.24it/s]\n",
            "100%|██████████| 83/83 [00:00<00:00, 658.53it/s]\n",
            "100%|██████████| 83/83 [00:00<00:00, 662.04it/s]\n",
            "100%|██████████| 83/83 [00:00<00:00, 614.36it/s]\n",
            "100%|██████████| 83/83 [00:00<00:00, 638.99it/s]\n",
            "100%|██████████| 83/83 [00:00<00:00, 610.83it/s]\n",
            "100%|██████████| 83/83 [00:00<00:00, 499.48it/s]\n",
            "100%|██████████| 83/83 [00:00<00:00, 640.20it/s]\n",
            "100%|██████████| 83/83 [00:00<00:00, 672.07it/s]\n",
            "100%|██████████| 83/83 [00:00<00:00, 643.91it/s]\n",
            "100%|██████████| 83/83 [00:00<00:00, 619.92it/s]\n",
            "100%|██████████| 83/83 [00:00<00:00, 627.48it/s]\n",
            "100%|██████████| 83/83 [00:00<00:00, 601.55it/s]\n",
            "100%|██████████| 83/83 [00:00<00:00, 594.23it/s]\n",
            "100%|██████████| 83/83 [00:00<00:00, 623.93it/s]\n",
            "100%|██████████| 83/83 [00:00<00:00, 581.84it/s]\n",
            "100%|██████████| 83/83 [00:00<00:00, 392.44it/s]\n",
            "100%|██████████| 83/83 [00:00<00:00, 600.62it/s]\n",
            "100%|██████████| 83/83 [00:00<00:00, 622.19it/s]\n",
            "100%|██████████| 83/83 [00:00<00:00, 639.69it/s]\n",
            "100%|██████████| 83/83 [00:00<00:00, 631.61it/s]\n",
            "100%|██████████| 83/83 [00:00<00:00, 611.87it/s]\n",
            "100%|██████████| 83/83 [00:00<00:00, 645.93it/s]\n",
            "100%|██████████| 83/83 [00:00<00:00, 628.02it/s]\n",
            "100%|██████████| 83/83 [00:00<00:00, 615.31it/s]\n",
            "100%|██████████| 83/83 [00:00<00:00, 658.01it/s]\n",
            "100%|██████████| 83/83 [00:00<00:00, 594.24it/s]\n",
            "100%|██████████| 83/83 [00:00<00:00, 594.11it/s]\n",
            "100%|██████████| 83/83 [00:00<00:00, 645.98it/s]\n",
            "100%|██████████| 83/83 [00:00<00:00, 631.66it/s]\n",
            "100%|██████████| 83/83 [00:00<00:00, 658.11it/s]\n",
            "100%|██████████| 83/83 [00:00<00:00, 561.75it/s]\n",
            "100%|██████████| 83/83 [00:00<00:00, 606.25it/s]\n",
            "100%|██████████| 83/83 [00:00<00:00, 639.83it/s]\n",
            "100%|██████████| 83/83 [00:00<00:00, 658.27it/s]\n",
            "100%|██████████| 83/83 [00:00<00:00, 631.49it/s]\n",
            "100%|██████████| 83/83 [00:00<00:00, 653.14it/s]\n",
            "100%|██████████| 83/83 [00:00<00:00, 624.82it/s]\n",
            "100%|██████████| 83/83 [00:00<00:00, 575.22it/s]\n",
            "100%|██████████| 83/83 [00:00<00:00, 577.93it/s]\n",
            "100%|██████████| 83/83 [00:00<00:00, 632.19it/s]\n",
            "100%|██████████| 83/83 [00:00<00:00, 587.10it/s]\n",
            "100%|██████████| 83/83 [00:00<00:00, 638.42it/s]\n",
            "100%|██████████| 83/83 [00:00<00:00, 404.81it/s]\n",
            "100%|██████████| 83/83 [00:00<00:00, 636.55it/s]\n",
            "100%|██████████| 83/83 [00:00<00:00, 618.25it/s]\n",
            "100%|██████████| 83/83 [00:00<00:00, 625.98it/s]\n",
            "100%|██████████| 83/83 [00:00<00:00, 596.44it/s]\n",
            "100%|██████████| 83/83 [00:00<00:00, 648.32it/s]\n",
            "100%|██████████| 83/83 [00:00<00:00, 623.73it/s]\n",
            "100%|██████████| 83/83 [00:00<00:00, 603.32it/s]\n",
            "100%|██████████| 83/83 [00:00<00:00, 648.51it/s]\n",
            "100%|██████████| 83/83 [00:00<00:00, 585.27it/s]\n",
            "100%|██████████| 83/83 [00:00<00:00, 581.21it/s]\n",
            "100%|██████████| 83/83 [00:00<00:00, 640.87it/s]\n",
            "100%|██████████| 83/83 [00:00<00:00, 603.84it/s]\n",
            "100%|██████████| 83/83 [00:00<00:00, 595.78it/s]\n",
            "100%|██████████| 83/83 [00:00<00:00, 535.46it/s]\n",
            "100%|██████████| 83/83 [00:00<00:00, 622.82it/s]\n",
            "100%|██████████| 83/83 [00:00<00:00, 551.18it/s]\n",
            "100%|██████████| 83/83 [00:00<00:00, 623.46it/s]\n",
            "100%|██████████| 83/83 [00:00<00:00, 621.06it/s]\n",
            "100%|██████████| 83/83 [00:00<00:00, 583.83it/s]\n"
          ],
          "name": "stderr"
        }
      ]
    },
    {
      "cell_type": "code",
      "metadata": {
        "colab": {
          "base_uri": "https://localhost:8080/"
        },
        "id": "1XJ1dJKkt_VM",
        "outputId": "7afb6c40-609c-4e69-e0ae-ad9c4170349c"
      },
      "source": [
        "def check_accuracy(loader, model):\n",
        "    num_correct = 0\n",
        "    num_samples = 0\n",
        "    model.eval()\n",
        "\n",
        "    with torch.no_grad():\n",
        "        for x, y in loader:\n",
        "            x = x.to(device=device)\n",
        "            y = y.to(device=device)\n",
        "            x = x.reshape(x.shape[0], -1)\n",
        "\n",
        "            scores = model(x)\n",
        "            _, predictions = scores.max(1)\n",
        "            num_correct += (predictions == y).sum()\n",
        "            num_samples += predictions.size(0)\n",
        "\n",
        "    model.train()\n",
        "    return num_correct/num_samples\n",
        "\n",
        "\n",
        "print(f\"Accuracy on training set: {check_accuracy(train_loader, model)*100:.2f}\")\n",
        "print(f\"Accuracy on test set: {check_accuracy(valid_loader, model)*100:.2f}\")"
      ],
      "execution_count": 80,
      "outputs": [
        {
          "output_type": "stream",
          "text": [
            "Accuracy on training set: 15.81\n",
            "Accuracy on test set: 14.71\n"
          ],
          "name": "stdout"
        }
      ]
    }
  ]
}