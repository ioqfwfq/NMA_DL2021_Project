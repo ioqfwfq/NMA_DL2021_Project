{
  "nbformat": 4,
  "nbformat_minor": 0,
  "metadata": {
    "colab": {
      "name": "PCA_FC_NMA_project",
      "provenance": [],
      "collapsed_sections": [],
      "include_colab_link": true
    },
    "kernel": {
      "display_name": "Python 3",
      "language": "python",
      "name": "python3"
    },
    "kernelspec": {
      "display_name": "Python 3",
      "name": "python3"
    },
    "language_info": {
      "name": "python"
    }
  },
  "cells": [
    {
      "cell_type": "markdown",
      "metadata": {
        "id": "view-in-github",
        "colab_type": "text"
      },
      "source": [
        "<a href=\"https://colab.research.google.com/github/ioqfwfq/NMA_DL2021_Project/blob/main/PCA_FC_NMA_project.ipynb\" target=\"_parent\"><img src=\"https://colab.research.google.com/assets/colab-badge.svg\" alt=\"Open In Colab\"/></a>"
      ]
    },
    {
      "cell_type": "markdown",
      "metadata": {
        "execution": {},
        "id": "8bB4m3HPLQ6g"
      },
      "source": [
        "---\n",
        "# Setup"
      ]
    },
    {
      "cell_type": "code",
      "metadata": {
        "execution": {},
        "id": "6Ema3PIxLQ6h"
      },
      "source": [
        "# Imports\n",
        "import torch\n",
        "import numpy as np\n",
        "import sklearn.decomposition as decomposition\n",
        "import torch.nn as nn\n",
        "import torch.nn.functional as F\n",
        "import pandas as pd\n",
        "import scipy.stats as stats\n",
        "import torch.utils\n",
        "import torch.distributions\n",
        "from matplotlib import pyplot as plt\n",
        "from torch import optim  # For optimizers like SGD, Adam, etc.\n",
        "from torch.utils.data import TensorDataset, DataLoader, SubsetRandomSampler\n",
        "from tqdm import tqdm  # For a nice progress bar!"
      ],
      "execution_count": 1,
      "outputs": []
    },
    {
      "cell_type": "code",
      "metadata": {
        "execution": {},
        "id": "POETLrUVLQ6i"
      },
      "source": [
        "device = torch.device('cuda' if torch.cuda.is_available() else 'cpu')"
      ],
      "execution_count": 2,
      "outputs": []
    },
    {
      "cell_type": "markdown",
      "metadata": {
        "id": "Wom4yo3fLzVU"
      },
      "source": [
        "---\n",
        "# Load Data from Google Drive\n"
      ]
    },
    {
      "cell_type": "code",
      "metadata": {
        "colab": {
          "base_uri": "https://localhost:8080/"
        },
        "id": "s4kKa6hAMcbi",
        "outputId": "60faf0b8-c4d7-4ee3-847f-c2d480476549"
      },
      "source": [
        "# Load the Drive helper and mount\n",
        "from google.colab import drive\n",
        "\n",
        "# This will prompt for authorization.\n",
        "drive.mount('/content/drive')\n",
        "\n",
        "%cd /content/drive/My\\ Drive/Colab\\ Notebooks/data/\n",
        "!pwd\n",
        "!dir"
      ],
      "execution_count": 3,
      "outputs": [
        {
          "output_type": "stream",
          "text": [
            "Mounted at /content/drive\n",
            "/content/drive/.shortcut-targets-by-id/17xuhq9TF8GNhT9Xklt08_1TwyLvMiN_6/data\n",
            "/content/drive/.shortcut-targets-by-id/17xuhq9TF8GNhT9Xklt08_1TwyLvMiN_6/data\n",
            "data\t\t\t  mouse1_day1_suqare2.csv  mouse1_day7_suqare1.csv\n",
            "mouse1_day1_octagon2.csv  mouse1_day1_suqare2.mat  mouse1_day7_suqare1.mat\n",
            "mouse1_day1_suqare1.csv   mouse1_day4_suqare1.csv  NeuronROIs.mat\n",
            "mouse1_day1_suqare1.mat   mouse1_day4_suqare1.mat  ReadMe.txt\n"
          ],
          "name": "stdout"
        }
      ]
    },
    {
      "cell_type": "code",
      "metadata": {
        "id": "zEzcz5i6R9HM"
      },
      "source": [
        "fn = 'mouse1_day1_suqare2.csv'\n",
        "raw = pd.read_csv(fn, index_col=0)\n",
        "ndata = raw.iloc[:,:-3].values\n",
        "bdata = raw.iloc[:,-3:].values"
      ],
      "execution_count": 4,
      "outputs": []
    },
    {
      "cell_type": "code",
      "metadata": {
        "colab": {
          "base_uri": "https://localhost:8080/"
        },
        "id": "D8b5zABaTZxf",
        "outputId": "ae20b489-472f-4c85-fd90-9ef1dd659b4c"
      },
      "source": [
        "ndata.shape"
      ],
      "execution_count": 5,
      "outputs": [
        {
          "output_type": "execute_result",
          "data": {
            "text/plain": [
              "(5758, 471)"
            ]
          },
          "metadata": {},
          "execution_count": 5
        }
      ]
    },
    {
      "cell_type": "markdown",
      "metadata": {
        "id": "mtrnCK5HQ8Ph"
      },
      "source": [
        "# Prep data: PCA"
      ]
    },
    {
      "cell_type": "code",
      "metadata": {
        "id": "1lA2d-gpMmyB"
      },
      "source": [
        "pca = decomposition.PCA(n_components=10)\n",
        "pca.fit(ndata)\n",
        "ndata = pca.transform(ndata)"
      ],
      "execution_count": 6,
      "outputs": []
    },
    {
      "cell_type": "markdown",
      "metadata": {
        "id": "XrLTeNLgaxGw"
      },
      "source": [
        "# Build Dataset"
      ]
    },
    {
      "cell_type": "code",
      "metadata": {
        "id": "H_RehuCbTbwK"
      },
      "source": [
        "#Transform and normalize the coordinates\n",
        "x_coo = bdata[:,0]\n",
        "y_coo = bdata[:,1]\n",
        "# x_len = x_coo.max()-x_coo.min()\n",
        "# y_len = y_coo.max()-y_coo.min()\n",
        "# x_cen = (x_coo.max()+x_coo.min())*0.5\n",
        "# y_cen = (y_coo.max()+y_coo.min())*0.5\n",
        "\n",
        "# x_coo_nor = (x_coo-x_cen)/(x_len*0.5) # range [-1, 1]\n",
        "# y_coo_nor = (y_coo-y_cen)/(y_len*0.5) \n",
        "\n",
        "# Find inside points\n",
        "inside = np.zeros_like(bdata[:,1],dtype=bool)\n",
        "for i in range(len(x_coo)):\n",
        "  inside[i] = abs(x_coo[i]-32.5)<12.5 and abs(y_coo[i]-52.5)<12.5\n",
        "ndata = ndata[inside]\n",
        "bdata = bdata[inside]\n",
        "x_coo = bdata[:,0]\n",
        "y_coo = bdata[:,1]"
      ],
      "execution_count": 7,
      "outputs": []
    },
    {
      "cell_type": "code",
      "metadata": {
        "id": "56Q4f5U4iqvw"
      },
      "source": [
        "# Make labels\n",
        "labels = np.zeros_like(bdata[:,1])\n",
        "labels_x = np.ceil(x_coo/5)-5\n",
        "labels_x = labels_x.astype(int)\n",
        "labels_y = np.ceil(y_coo/5)-9\n",
        "labels_y = labels_y.astype(int)\n",
        "num_classes = len(np.unique(labels_x)) * len(np.unique(labels_y))\n",
        "label_list = np.linspace(0,num_classes-1,num_classes).reshape([len(np.unique(labels_x)),len(np.unique(labels_y))])\n",
        "\n",
        "for i in range(len(labels)):\n",
        "  labels[i] = label_list[labels_x[i],labels_y[i]]"
      ],
      "execution_count": 8,
      "outputs": []
    },
    {
      "cell_type": "code",
      "metadata": {
        "id": "6LyNxmKpvHSj"
      },
      "source": [
        "# Make Dataloader\n",
        "tensor_input = torch.Tensor(ndata)\n",
        "tensor_label = torch.Tensor(labels)\n",
        "\n",
        "my_dataset = TensorDataset(tensor_input,tensor_label) # create dateset\n",
        "\n",
        "dataset_size = len(my_dataset)\n",
        "indices = list(range(dataset_size))\n",
        "split = int(np.floor(validation_split * dataset_size))\n",
        "train_indices, val_indices = indices[split:], indices[:split]\n",
        "\n",
        "train_sampler = SubsetRandomSampler(train_indices)\n",
        "valid_sampler = SubsetRandomSampler(val_indices)\n",
        "train_loader = DataLoader(my_dataset,\n",
        "                          batch_size=batch_size,\n",
        "                          sampler=train_sampler)\n",
        "valid_loader = DataLoader(my_dataset,\n",
        "                          batch_size=batch_size,\n",
        "                          sampler=valid_sampler)"
      ],
      "execution_count": 23,
      "outputs": []
    },
    {
      "cell_type": "code",
      "metadata": {
        "colab": {
          "base_uri": "https://localhost:8080/",
          "height": 283
        },
        "id": "8-uv_ZxQOhRM",
        "outputId": "d30c787d-6317-4c70-b83f-8848f8badbfc"
      },
      "source": [
        "plt.scatter(x_coo[train_indices],y_coo[train_indices], s=2)"
      ],
      "execution_count": 12,
      "outputs": [
        {
          "output_type": "execute_result",
          "data": {
            "text/plain": [
              "<matplotlib.collections.PathCollection at 0x7f31af7a3210>"
            ]
          },
          "metadata": {},
          "execution_count": 12
        },
        {
          "output_type": "display_data",
          "data": {
            "image/png": "[encoded data removed]",
            "text/plain": [
              "<Figure size 432x288 with 1 Axes>"
            ]
          },
          "metadata": {
            "needs_background": "light"
          }
        }
      ]
    },
    {
      "cell_type": "code",
      "metadata": {
        "colab": {
          "base_uri": "https://localhost:8080/"
        },
        "id": "nwv8kd8jr5lH",
        "outputId": "13268ba1-b3a8-4526-8309-dc8df9fb5665"
      },
      "source": [
        "# debug\n",
        "batch_test = next(iter(train_loader))\n",
        "na, label_test = batch_test\n",
        "\n",
        "print('types:', type(na), type(label_test))\n",
        "print('shapes:', na.shape, label_test)"
      ],
      "execution_count": 24,
      "outputs": [
        {
          "output_type": "stream",
          "text": [
            "types: <class 'torch.Tensor'> <class 'torch.Tensor'>\n",
            "shapes: torch.Size([10, 10]) tensor([ 3., 11., 17., 10., 13., 11.,  7., 21., 10., 15.])\n"
          ],
          "name": "stdout"
        }
      ]
    },
    {
      "cell_type": "markdown",
      "metadata": {
        "execution": {},
        "id": "TU3pZyN8LQ6r"
      },
      "source": [
        "---\n",
        "# NN logistic"
      ]
    },
    {
      "cell_type": "code",
      "metadata": {
        "id": "JFF8ukCAZox6"
      },
      "source": [
        "# Hyperparameters\n",
        "input_size = ndata.shape[1]\n",
        "hidden_size = 256\n",
        "num_layers = 2\n",
        "learning_rate = 0.005\n",
        "batch_size = 10\n",
        "num_epochs = 10\n",
        "validation_split = .2"
      ],
      "execution_count": 18,
      "outputs": []
    },
    {
      "cell_type": "code",
      "metadata": {
        "id": "NzjYV_6hbIoe"
      },
      "source": [
        "class NN(nn.Module):\n",
        "    def __init__(self, input_size, hidden_size, num_classes):\n",
        "        super(NN, self).__init__()\n",
        "        # self.fc1 = nn.Linear(input_size, num_classes)\n",
        "        self.fc1 = nn.Linear(input_size, hidden_size)\n",
        "        self.fc2 = nn.Linear(hidden_size, num_classes)\n",
        "\n",
        "    def forward(self, x):\n",
        "        # x = self.fc1(x)\n",
        "        x = torch.tanh(self.fc1(x))\n",
        "        x = self.fc2(x)\n",
        "        return x"
      ],
      "execution_count": 25,
      "outputs": []
    },
    {
      "cell_type": "code",
      "metadata": {
        "id": "iW_IRXZMt9tU"
      },
      "source": [
        "# Initialize network\n",
        "model = NN(input_size=input_size, hidden_size=hidden_size, num_classes=num_classes).to(device)\n",
        "\n",
        "# Loss and optimizer\n",
        "criterion = nn.CrossEntropyLoss()\n",
        "optimizer = optim.Adam(model.parameters(), lr=learning_rate)"
      ],
      "execution_count": 26,
      "outputs": []
    },
    {
      "cell_type": "code",
      "metadata": {
        "colab": {
          "base_uri": "https://localhost:8080/"
        },
        "id": "JSBxdsY_uDcE",
        "outputId": "d9782b4f-d4b9-45b6-a38d-3d15947fe470"
      },
      "source": [
        "# Train Network\n",
        "for epoch in range(num_epochs):\n",
        "    for batch_idx, (tensor_input, tensor_label) in enumerate(tqdm(train_loader)):\n",
        "        # Get data to cuda if possible\n",
        "        data = tensor_input.to(device=device)\n",
        "        targets = tensor_label.to(device=device)\n",
        "\n",
        "        # Get to correct shape\n",
        "        data = data.reshape(data.shape[0], -1)\n",
        "\n",
        "        # forward\n",
        "        scores = model(data)\n",
        "        loss = criterion(scores, targets.long())\n",
        "\n",
        "        # backward\n",
        "        optimizer.zero_grad()\n",
        "        loss.backward()\n",
        "\n",
        "        # gradient descent or adam step\n",
        "        optimizer.step()"
      ],
      "execution_count": 27,
      "outputs": [
        {
          "output_type": "stream",
          "text": [
            "100%|██████████| 401/401 [00:00<00:00, 1105.79it/s]\n",
            "100%|██████████| 401/401 [00:00<00:00, 1075.19it/s]\n",
            "100%|██████████| 401/401 [00:00<00:00, 1003.87it/s]\n",
            "100%|██████████| 401/401 [00:00<00:00, 1017.04it/s]\n",
            "100%|██████████| 401/401 [00:00<00:00, 1035.08it/s]\n",
            "100%|██████████| 401/401 [00:00<00:00, 1161.65it/s]\n",
            "100%|██████████| 401/401 [00:00<00:00, 1053.29it/s]\n",
            "100%|██████████| 401/401 [00:00<00:00, 927.34it/s]\n",
            "100%|██████████| 401/401 [00:00<00:00, 987.88it/s] \n",
            "100%|██████████| 401/401 [00:00<00:00, 1066.05it/s]\n"
          ],
          "name": "stderr"
        }
      ]
    },
    {
      "cell_type": "code",
      "metadata": {
        "colab": {
          "base_uri": "https://localhost:8080/"
        },
        "id": "KYL7HJAMnC0M",
        "outputId": "d4907080-cbf3-4577-b827-423f522656db"
      },
      "source": [
        "scores.max(1)"
      ],
      "execution_count": 38,
      "outputs": [
        {
          "output_type": "execute_result",
          "data": {
            "text/plain": [
              "torch.return_types.max(values=tensor([2.7189, 2.0352, 1.2837, 6.4985, 2.6712], grad_fn=<MaxBackward0>), indices=tensor([11, 22, 24, 24, 10]))"
            ]
          },
          "metadata": {},
          "execution_count": 38
        }
      ]
    },
    {
      "cell_type": "markdown",
      "metadata": {
        "id": "pvVvX_0N8T6I"
      },
      "source": [
        "# Test"
      ]
    },
    {
      "cell_type": "code",
      "metadata": {
        "colab": {
          "base_uri": "https://localhost:8080/"
        },
        "id": "di3hQMvVpfm1",
        "outputId": "7722e641-8329-46a0-cf3b-0a4e8bdde28d"
      },
      "source": [
        "# predicted location\n",
        "x_coo_pre = (labels_x+5)*5-2.5\n",
        "y_coo_pre = (labels_y+9)*5-2.5\n",
        "\n",
        "def predicted_location(label):\n",
        "  prelabel = np.where(label_list==label)\n",
        "  u_x = \n",
        "  y_coo_pre = \n"
      ],
      "execution_count": null,
      "outputs": [
        {
          "output_type": "execute_result",
          "data": {
            "text/plain": [
              "array([[ 0.,  1.,  2.,  3.,  4.],\n",
              "       [ 5.,  6.,  7.,  8.,  9.],\n",
              "       [10., 11., 12., 13., 14.],\n",
              "       [15., 16., 17., 18., 19.],\n",
              "       [20., 21., 22., 23., 24.]])"
            ]
          },
          "metadata": {},
          "execution_count": 55
        }
      ]
    },
    {
      "cell_type": "code",
      "metadata": {
        "colab": {
          "base_uri": "https://localhost:8080/"
        },
        "id": "1XJ1dJKkt_VM",
        "outputId": "327dbc58-58a0-4f47-83cd-997d0f2a6807"
      },
      "source": [
        "def check_prediction(loader, model):\n",
        "    num_correct = 0\n",
        "    num_samples = 0\n",
        "    model.eval()\n",
        "\n",
        "    with torch.no_grad():\n",
        "        for x, y in loader:\n",
        "            x = x.to(device=device)\n",
        "            y = y.to(device=device)\n",
        "            x = x.reshape(x.shape[0], -1)\n",
        "\n",
        "            scores = model(x)\n",
        "            _, predictions = scores.max(1)\n",
        "            num_correct += (predictions == y).sum()\n",
        "            num_samples += predictions.size(0)\n",
        "\n",
        "    model.train()\n",
        "    return num_correct/num_samples\n",
        "\n",
        "\n",
        "print(f\"Accuracy on training set: {check_prediction(train_loader, model)*100:.2f}\")\n",
        "print(f\"Accuracy on test set: {check_prediction(valid_loader, model)*100:.2f}\")"
      ],
      "execution_count": null,
      "outputs": [
        {
          "output_type": "stream",
          "text": [
            "Accuracy on training set: 31.29\n",
            "Accuracy on test set: 16.88\n"
          ],
          "name": "stdout"
        }
      ]
    }
  ]
}